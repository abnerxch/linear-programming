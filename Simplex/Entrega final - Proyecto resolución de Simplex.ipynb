{
 "cells": [
  {
   "cell_type": "markdown",
   "metadata": {},
   "source": [
    "# Simplex\n",
    "\n",
    "#### Katherine Yohanna Mazariegos Guerra\n",
    "#### Abner Xocop Chacach"
   ]
  },
  {
   "cell_type": "code",
   "execution_count": 1,
   "metadata": {},
   "outputs": [],
   "source": [
    "import numpy as np"
   ]
  },
  {
   "cell_type": "code",
   "execution_count": 2,
   "metadata": {},
   "outputs": [],
   "source": [
    "# En archivo exercise01.txt x1, x2 y x3 es el nombre de las variables, se usaron esas para seguir con el estándar de nombramiento en Programación Lineal.\n",
    "# Es necesario escribir si es min/max para que el programa identifique si es de maximización o minimización, st para indicar que esas son las restricciones y end para indicar al programa que el problema termina ahí\n",
    "\n",
    "def parse_coefficients(coefficient_list, monomial):\n",
    "    \"\"\"\n",
    "    Este es un parseador de coeficientes. Consiste en comprobar si una cadena tiene una expresión regular en donde pueda extraer caracteres específicos, en este caso se busca extraer los coeficientes.\n",
    "\n",
    "    Args:\n",
    "        :rtype: None\n",
    "        :param coefficient_list: Lista en la que se almacenarán los coeficientes\n",
    "        :param monomial: Una cadena (por ejemplo, -3x1) que será analizada hasta su coeficiente (por ejemplo, -3)\n",
    "\n",
    "    Verifica qué patrón coincide. Válidos son: (s)(n)lv\n",
    "        Los paréntesis indican la existencia opcional\n",
    "        s es + o - (la ausencia significa +)\n",
    "        n es un número (coeficiente, la ausencia significa 1)\n",
    "        l es una letra latina minúscula (letra variable)\n",
    "        v es un número, probablemente incremental (número variable)\n",
    "\n",
    "    Import re:\n",
    "        Una expresión regular (o RE) especifica un conjunto de cadenas que se corresponde con ella; las funciones de este módulo le permiten comprobar si una cadena particular se corresponde con una expresión regular dada (o si una expresión regular dada se corresponde con una cadena particular, que se reduce a lo mismo)\n",
    "        Source: https://docs.python.org/3/library/re.html\n",
    "    \"\"\"\n",
    "    import re\n",
    "\n",
    "    if re.match('[ ]*[\\+ ]?[\\d]+[\\.]?[\\d]*', monomial):\n",
    "        float_cast = float(re.match('[ ]*[\\+ ]?[\\d]+[\\.]?[\\d]*', monomial).group(0))\n",
    "        coefficient_list.append(float_cast)\n",
    "    elif re.match('[ ]*[\\-][\\d]+[\\.]?[\\d]*', monomial):\n",
    "        float_cast = float(re.match('[ ]*[\\-][\\d]+[\\.]?[\\d]*', monomial).group(0))\n",
    "        coefficient_list.append(float_cast)\n",
    "    elif re.match('[ ]*[\\+]*[a-z][\\d]+', monomial):\n",
    "        coefficient_list.append(1)\n",
    "    elif re.match('[ ]*[\\-][a-z][\\d]+', monomial):\n",
    "        coefficient_list.append(-1)"
   ]
  },
  {
   "cell_type": "code",
   "execution_count": 3,
   "metadata": {},
   "outputs": [],
   "source": [
    "lines = []\n",
    "def parse_lp1(input_filename):\n",
    "    \"\"\"\n",
    "    Esta función es la encargada de leer el archivo, hará uso del parser para mandar línea a línea el contenido del .txt y según los coeficientes que obtenga devolverá las matrices y arrays correspondientes. \n",
    "\n",
    "    Tiene tareas como verificar que el archivo haya sido encontrado, leer si es un problema de maximización o minimización, llenar las matrices/ arrays.\n",
    "\n",
    "    :rtype : tuple\n",
    "    :param input_filename: Nombre de archivo de la entrada del problema lineal\n",
    "    :return: Retorna A-matrix, b-vector, c-vector, MinMax\n",
    "    \"\"\"\n",
    "    import re\n",
    "\n",
    "    error = 0 # Inicializar la variable de error. Si el error!=0 entonces hubo un problema de entrada de archivo \n",
    "\n",
    "\n",
    "    try:\n",
    "        infile = open('Nathalia06.txt')\n",
    "    except FileNotFoundError:\n",
    "        error = 1\n",
    "        print('\\nInput file error: Archivo no encontrado.') # Archivo no encontrado\n",
    "\n",
    "    #lines = []\n",
    "    if error != 1:\n",
    "        for line in infile:\n",
    "            lines.append(line)\n",
    "        infile.close()\n",
    "    for line in lines:\n",
    "        print(line, end='')    \n",
    "\n",
    "    minmax_line = '' # Verficar si el problema es de maximización o de minimización\n",
    "    for line in lines:\n",
    "        if re.match('^[ ]*max|min', line):\n",
    "            minmax_line = line\n",
    "\n",
    "    minmax = 0\n",
    "    objective_function = ''\n",
    "\n",
    "    if re.match('^[ ]*max', minmax_line): #Si en el archivo se encuentra la palabra 'max' entonces el problema es de maximización\n",
    "        minmax = -1\n",
    "        objective_function = minmax_line\n",
    "        objective_function = objective_function.strip('max')\n",
    "    \n",
    "    elif re.match('^[ ]*min', minmax_line): # Si en el archivo se encuentra la palabra 'min' entonces el problema es de minimización\n",
    "        minmax = 1\n",
    "        objective_function = minmax_line\n",
    "        objective_function = objective_function.strip('min')\n",
    "\n",
    "    if minmax_line == '' and minmax == 0: # Si en el archivo no se encuentra ni 'max' ni  'min' entonces no hay función objetivo\n",
    "        error = 2\n",
    "        print('\\nInput file error: Función objetivo no encontrada.')\n",
    "\n",
    "    c_vector = [] # Rellenar el vector c con coeficientes de función objetiva\n",
    "\n",
    "    regex = re.compile('^[\\+\\- ]?[\\d]*[\\.]?[\\d]*[a-z][\\d+]')\n",
    "    while regex.match(objective_function):\n",
    "        monomial = regex.match(objective_function).group(0)\n",
    "        parse_coefficients(c_vector, monomial)\n",
    "        objective_function = objective_function.replace(monomial, '', 1)\n",
    "\n",
    "    a_matrix = [] # Rellenar la matriz A (coeficientes) y el vector b utilizando las restricciones del problema\n",
    "    b_vector = []\n",
    "    eqin = []\n",
    "\n",
    "    st_line = ''\n",
    "    st_index = 0\n",
    "    for index, line in enumerate(lines):\n",
    "        if 'st' in line:\n",
    "            st_index = index\n",
    "            st_line = line\n",
    "\n",
    "    if re.match('^[ ]*st', st_line):\n",
    "        st_line = st_line.replace('st', '  ', 1)\n",
    "\n",
    "    if st_line == '':\n",
    "        error = 3\n",
    "        print('\\nInput file error: Línea de restricciones no encontrada. No existe la keyword \\'st\\'.')\n",
    "\n",
    "    while st_index < len(lines) - 1:\n",
    "        sub_a_vector = []\n",
    "        a_matrix.append(sub_a_vector)\n",
    "        while True:\n",
    "            st_line = st_line.strip(' ')\n",
    "            if re.match('^[\\+\\- ]?[\\d]*[\\.]?[\\d]*[a-z][\\d+]', st_line):\n",
    "                monomial = re.match('^[\\+\\- ]?[\\d]*[\\.]?[\\d]*[a-z][\\d+]', st_line).group(0)\n",
    "                parse_coefficients(sub_a_vector, monomial)\n",
    "                st_line = st_line.replace(monomial, '', 1)\n",
    "            elif re.match('^[<>=]+', st_line):\n",
    "                monomial = re.match('^[<>=]+', st_line).group(0)\n",
    "                if monomial == '<=':\n",
    "                    eqin.append(-1)\n",
    "                elif monomial == '>=':\n",
    "                    eqin.append(1)\n",
    "                elif monomial == '==':\n",
    "                    eqin.append(0)\n",
    "                else:\n",
    "                    error = 4\n",
    "                    print('\\nInput file error: Caracter inesperado; esperados <=, >=, = al menos', monomial)\n",
    "                st_line = st_line.replace(monomial, '', 1)\n",
    "            elif re.match('^[\\d]+', st_line):\n",
    "                monomial = re.match('^[\\d]+', st_line).group(0)\n",
    "                int_cast = int(re.match('^[\\d]+', st_line).group(0))\n",
    "                b_vector.append(int_cast)\n",
    "                st_line = st_line.replace(monomial, '', 1)\n",
    "            else:\n",
    "                if not sub_a_vector:    # Evalúa true cuando las líneas están vacías entre las restricciones\n",
    "                    a_matrix.pop()\n",
    "                break\n",
    "\n",
    "        st_index += 1 #         Incrementar el número de línea y obtener el siguiente\n",
    "        st_line = lines[st_index]\n",
    "\n",
    "        if st_line == 'end\\n' and error == 0: #         Búsqueda de la declaración final y ausencia de errores\n",
    "            print('\\nArchivo cargado exitosamente.')\n",
    "            break\n",
    "\n",
    "    return a_matrix, b_vector, c_vector, eqin, minmax # Devolver todas las listas y variables creadas"
   ]
  },
  {
   "cell_type": "code",
   "execution_count": 4,
   "metadata": {},
   "outputs": [
    {
     "name": "stdout",
     "output_type": "stream",
     "text": [
      "max -2x1-3x2\n",
      "st 5x1+4x2<=32\n",
      "   1x1+2x2<=10\n",
      "end"
     ]
    }
   ],
   "source": [
    "def convert_to_dual(input_filename, output_filename):\n",
    "    \"\"\"\n",
    "    Verifica si son restricciones de >=, <= o =. También tiene como tarea hacer un archivo de salida en el que muestre los resultados de las matrices que se llenaron.\n",
    "\n",
    "    :param input_filename: Nombre de archivo de la entrada del problema lineal\n",
    "    :param output_filename: Filename of the linear problem output\n",
    "    :return: Returns A-matrix, b-vector, c-vector, Variable-constraints, MinMax\n",
    "    \"\"\"\n",
    "\n",
    "    (a_matrix, b_vector, c_vector, eqin, minmax) = parse_lp1(input_filename)     # Llamar la función parse_lp1\n",
    "\n",
    "    variable_constraints = [] # Convertir las restricciones a equivalentes duales '*' significa libre\n",
    "    if minmax == -1:\n",
    "        for el in eqin:\n",
    "            if el == 0:\n",
    "                variable_constraints.append('==')\n",
    "            elif el == 1:\n",
    "                variable_constraints.append('>=')\n",
    "            elif el == -1:\n",
    "                variable_constraints.append('<=')\n",
    "\n",
    "    a_matrix = list(zip(a_matrix)) # Traspuesta de A-matrix\n",
    "\n",
    "    minmax = -minmax # min(max) el problema dual es max(min)\n",
    "\n",
    "    outfile = open(output_filename, 'w') # Escribir el problema a un archivo de salida\n",
    "    outfile.write('(Objective Function) b-vector: [' + ', '.join(map(str, b_vector)) + ']\\n')\n",
    "\n",
    "    outfile.write('\\nA-matrix: [')\n",
    "    thing = ''\n",
    "    for index, sub_a_vector in enumerate(a_matrix):\n",
    "        thing += '[ ' + ', '.join(map(str, sub_a_vector)) + ']'\n",
    "        if index != (len(a_matrix) - 1):\n",
    "            thing += ', '\n",
    "    outfile.write(thing + ']\\n')\n",
    "\n",
    "    outfile.write('\\n(Contraints) c-vector: [' + ', '.join(map(str, c_vector)) + ']\\n')\n",
    "    outfile.write('\\n(Variable Contraints) variable_constraints-vector: [' + ', '.join(map(str, c_vector)) + ']\\n')\n",
    "    outfile.write('\\nEqin: [' + ', '.join(map(str, eqin)) + ']\\n')\n",
    "    outfile.write('\\nMinMax: [' + str(minmax) + ']\\n')\n",
    "    outfile.close()\n",
    "\n",
    "    return a_matrix, b_vector, c_vector, variable_constraints, eqin, minmax\n",
    "\n",
    "(a_matrix, b_vector, c_vector, variable_contraints, eqin, minmax) = convert_to_dual('input-lp1', 'output-lp2')\n"
   ]
  },
  {
   "cell_type": "code",
   "execution_count": 5,
   "metadata": {},
   "outputs": [
    {
     "name": "stdout",
     "output_type": "stream",
     "text": [
      "[([5.0, 4.0],), ([1.0, 2.0],)]\n",
      "[32, 10]\n",
      "[]\n",
      "['<=', '<=']\n"
     ]
    }
   ],
   "source": [
    "print(a_matrix)\n",
    "print(b_vector)\n",
    "print(c_vector)\n",
    "print(variable_contraints)"
   ]
  },
  {
   "cell_type": "code",
   "execution_count": 6,
   "metadata": {},
   "outputs": [
    {
     "name": "stdout",
     "output_type": "stream",
     "text": [
      "[5.0, 4.0]\n",
      "menor\n",
      "[1.0, 2.0]\n",
      "menor\n",
      "[[5. 4. 1. 0.]\n",
      " [1. 2. 0. 1.]]\n",
      "4\n",
      "[]\n"
     ]
    }
   ],
   "source": [
    "#Hacer matriz\n",
    "#aqui estan los coeficientes de las restricciones\n",
    "\"\"\"\n",
    "Aqui se hace la matriz con las slack variables y con las variables artificiales que sean necesarias\n",
    "\"\"\"\n",
    "positions = []\n",
    "a_matrix2 = []\n",
    "for i in a_matrix:\n",
    "    a_matrix2.append((i[0]))\n",
    "#print(a_matrix2[0])\n",
    "#convertimos a_matrix2 en una matriz de numpy para hacer operaciones con ella\n",
    "mat = np.asmatrix(a_matrix2)\n",
    "size = len(variable_contraints)\n",
    "for i in range (len(variable_contraints)):\n",
    "    if variable_contraints[i] == \"<=\":\n",
    "        #hacemos la columna de ceros, de tamaño igual \n",
    "        # a las columnas que están en la matrix (length del arreglo de símbolos)\n",
    "        new_matrix = np.asmatrix(np.zeros(size))\n",
    "        #colocamos 1 en el espacio correspondiente de la fila en donde está \n",
    "        # la constrait\n",
    "        new_matrix[0,i]=1\n",
    "        #asignamos la forma para que sea un vector columna\n",
    "        new_matrix.shape = (size,1)\n",
    "        # obtenemos las dimensiones de la matrix actual\n",
    "        x, y = mat.shape\n",
    "        # hacemos el append de la columna de ceros y el uno en la posición correspondiente\n",
    "        # al final de la matriz, a la derecha\n",
    "        mat = np.hstack((mat[:,:y], new_matrix, mat[:,y:]))        \n",
    "        print(a_matrix2[i])\n",
    "        print(\"menor\")\n",
    "    if variable_contraints[i] == \"==\":\n",
    "        new_matrix = np.asmatrix(np.zeros(size))\n",
    "        new_matrix[0,i]=1\n",
    "        new_matrix.shape = (size,1)\n",
    "        x, y = mat.shape\n",
    "        mat = np.hstack((mat[:,:y], new_matrix, mat[:,y:]))  \n",
    "        print(a_matrix2[i])\n",
    "        print(\"igual\")\n",
    "        positions.append(y)\n",
    "    if variable_contraints[i] == \">=\":\n",
    "        new_matrix = np.asmatrix(np.zeros(size))\n",
    "        new_matrix[0,i]=1\n",
    "        new_matrix1 = np.asmatrix(np.zeros(size))\n",
    "        new_matrix1[0,i]=-1\n",
    "        new_matrix.shape = (size,1)\n",
    "        new_matrix1.shape = (size,1)\n",
    "        x, y = mat.shape\n",
    "        mat = np.hstack((mat[:,:y], new_matrix, mat[:,y:]))\n",
    "        mat = np.hstack((mat[:,:y+1], new_matrix1, mat[:,y+1:]))\n",
    "        print(a_matrix2[i])\n",
    "        print(\"mayor\")\n",
    "        positions.append(y)\n",
    "    #print(variable_contraints[i])\n",
    "#print(variable_contraints[0])\n",
    "print(mat)\n",
    "\n",
    "#Numero de columnas en la matriz\n",
    "num_cols = mat.shape[1]\n",
    "print(num_cols)\n",
    "print(positions)"
   ]
  },
  {
   "cell_type": "code",
   "execution_count": 7,
   "metadata": {},
   "outputs": [
    {
     "name": "stdout",
     "output_type": "stream",
     "text": [
      "Ingrese el no. de restricciones: 2\n"
     ]
    }
   ],
   "source": [
    "\"\"\"\n",
    "Solicita el número de restricciones para que el programa sepa las iteraciones que tiene que hacer para \n",
    "la matriz de restricciones\n",
    "\"\"\"\n",
    "no_restricciones = int(input(\"Ingrese el no. de restricciones: \"))"
   ]
  },
  {
   "cell_type": "code",
   "execution_count": 8,
   "metadata": {},
   "outputs": [
    {
     "name": "stdout",
     "output_type": "stream",
     "text": [
      "Ingrese el no. de variables: 2\n"
     ]
    }
   ],
   "source": [
    "\"\"\"\n",
    "Solicita el número de variables para que sepa la cantidad de columnas que tiene que tener el programa para crear una matriz\n",
    "de restricciones.\n",
    "\n",
    "Variables sirven para saber el número de columnas de la matriz\n",
    "Restricciones sirven para saber el número de filas de la matriz\n",
    "\"\"\"\n",
    "\n",
    "no_variables = int(input(\"Ingrese el no. de variables: \"))"
   ]
  },
  {
   "cell_type": "code",
   "execution_count": 9,
   "metadata": {},
   "outputs": [
    {
     "name": "stdout",
     "output_type": "stream",
     "text": [
      "¿El problema es de maximización 'max' o minimización 'min'?  min\n",
      "False\n"
     ]
    }
   ],
   "source": [
    "\"\"\"\n",
    "Esto se hace porque el algoritmo simplex necesita esta información para que al introducir la matriz identidad sepa si los 1's \n",
    "son positivos o negativos.\n",
    "\n",
    "Si es min, los unos serán negativos.\n",
    "Si es max, los unos serán positivos.\n",
    "\"\"\"\n",
    "\n",
    "max_min = True\n",
    "tipo = input(\"¿El problema es de maximización 'max' o minimización 'min'?  \")\n",
    "if tipo == \"min\":\n",
    "    max_min = False\n",
    "print(max_min)  "
   ]
  },
  {
   "cell_type": "code",
   "execution_count": 10,
   "metadata": {},
   "outputs": [],
   "source": [
    "\"\"\"\n",
    "Aquí es la orquetastación principal, porque aquí es donde se miden el número de filas y columnas que tendrá la tableau.\n",
    "Así mismo se inicializa el algoritmo simplex de manera explícita. También se le indica si es un problema tipo Min o Max.Luego\n",
    "empieza a buscar los puntos pivote, apoyándose de la eliminación gaussiana.\n",
    "\n",
    "Más adelante han sido definidas dos funciones: una de maximización, donde se le envía la palabra 'MAX' y esta función\n",
    "reconoce que tiene que resolver una maximización. La otra función es de minimización, que envía la palabra 'MIN'\n",
    "lo que significa que se requiere de una minimización.\n",
    "\n",
    "Estas palabras permiten que el algoritmo prepare la tableau según lo requiere la maximización y la minimización, porque \n",
    "ambos tienen una resolución distinta.\n",
    "\"\"\"\n",
    "\n",
    "def simplex(of,basis,tableau,opt):\n",
    "    # Obtiene el número de filas y columnas que tiene la tableau\n",
    "    n_rows = tableau.shape[0]\n",
    "    n_cols = tableau.shape[1]\n",
    "    if opt =='MIN':\n",
    "        # Inicia el algoritmo simplex\n",
    "        # Calcula zj-cj. Si cj - zj >= 0 para todas las columnas, entonces la solución actual es la solución óptima.\n",
    "        check = of - np.sum(np.reshape(of[list(basis)],(n_rows,1)) * tableau[:,0:n_cols-1],axis=0)\n",
    "    else:\n",
    "        # Inicia el algoritmo simplex\n",
    "        # Calcula cj-zj. Si zj - cj >= 0 para todas las columnas, entonces la solución actual es la solución óptima.\n",
    "        check = np.sum(np.reshape(of[list(basis)],(n_rows,1)) *tableau[:,0:n_cols-1],axis=0) - of\n",
    "    count = 0\n",
    "    while ~np.all(check >=0):\n",
    "        print(check)\n",
    "        # Determina la columna pivote: La columna pivotante es la columna correspondiente al mínimo zj-cj.\n",
    "        pivot_col = np.argmin(check)\n",
    "        # Determinar los elementos positivos en la columna pivote. Si no hay elementos positivos en la columna pivote, \n",
    "        # entonces la solución óptima no tiene límites.\n",
    "        positive_rows = np.where(tableau[:,pivot_col] > 0)[0]\n",
    "        if positive_rows.size == 0:\n",
    "            print('*******SOLUCIÓN SIN LÍMITES******')\n",
    "            break\n",
    "        # Determinar la hilera de pivote: prueba de min-ration\n",
    "        divide=(tableau[positive_rows,n_cols-1]\n",
    "            /tableau[positive_rows,pivot_col])\n",
    "        pivot_row = positive_rows[np.where(divide \n",
    "            == divide.min())[0][-1]]\n",
    "        # Actualizar las bases\n",
    "        basis[pivot_row] = pivot_col\n",
    "        # Realizar la eliminación gaussiana para hacer girar el elemento uno y los elementos por encima y por debajo del cero:\n",
    "        tableau[pivot_row,:]=(tableau[pivot_row,:]\n",
    "            /tableau[pivot_row,pivot_col])\n",
    "        for row in range(n_rows):\n",
    "            if row != pivot_row:\n",
    "                tableau[row,:] = (tableau[row,:] \n",
    "                    - tableau[row,pivot_col]*tableau[pivot_row,:])\n",
    "        if opt =='MIN':\n",
    "            check = of - np.sum(np.reshape(of[list(basis)],(n_rows,1)) * tableau[:,0:n_cols-1],axis=0)\n",
    "        else:\n",
    "            check = np.sum(np.reshape(of[list(basis)],(n_rows,1)) *tableau[:,0:n_cols-1],axis=0) - of\n",
    "        count += 1\n",
    "        print('Paso %d' % count)\n",
    "        print(tableau)\n",
    "    return basis,tableau\n",
    "\n",
    "def get_solution(of,basis,tableau):\n",
    "    # Obtiene el número de columnas de la tableau\n",
    "    n_cols = tableau.shape[1]\n",
    "    # Obtener la solución óptima\n",
    "    solution = np.zeros(of.size)\n",
    "    solution[list(basis)] = tableau[:,n_cols-1]\n",
    "    # Determinar el valor óptimo\n",
    "    value = np.sum(of[list(basis)] * tableau[:,n_cols-1])\n",
    "    return solution,value"
   ]
  },
  {
   "cell_type": "code",
   "execution_count": 11,
   "metadata": {},
   "outputs": [
    {
     "name": "stdout",
     "output_type": "stream",
     "text": [
      "[[ 5.  4.  1.  0. 32.]\n",
      " [ 1.  2.  0.  1. 10.]]\n"
     ]
    }
   ],
   "source": [
    "\"\"\"\n",
    "Esta función es muy importante, ya que permite ingresar variables artificiales si son necesarias. Los símbolos que requieren\n",
    "que se añadan variables artificiales son los signos de >=. El símbolo == requiere una variable artificial en vez de una de \n",
    "holgura, el signo >= requiere de una variable artificial 1 y de una variable de holgura -1.\n",
    "\"\"\"\n",
    "\n",
    "n_b_vector = []\n",
    "for i in b_vector:\n",
    "    list1 = [i]\n",
    "    n_b_vector.append(list1)\n",
    "\n",
    "#Esta es la matriz que si sirve \n",
    "matrix_mat = np.concatenate((mat, n_b_vector),axis =1)\n",
    "print(matrix_mat)"
   ]
  },
  {
   "cell_type": "code",
   "execution_count": 12,
   "metadata": {},
   "outputs": [
    {
     "name": "stdout",
     "output_type": "stream",
     "text": [
      "['<=', '<=']\n",
      "True\n",
      "False\n",
      "False\n"
     ]
    }
   ],
   "source": [
    "print(variable_contraints)\n",
    "\n",
    "def check_availability(element, collection: iter):\n",
    "    return element in collection\n",
    "\n",
    "verificar_menoresque = check_availability('<=', variable_contraints)\n",
    "print(verificar_menoresque)\n",
    "\n",
    "verificar_mayoresque = check_availability('>=', variable_contraints)\n",
    "print(verificar_mayoresque)\n",
    "\n",
    "verificar_igualesque = check_availability('==', variable_contraints)\n",
    "print(verificar_igualesque)"
   ]
  },
  {
   "cell_type": "code",
   "execution_count": 13,
   "metadata": {},
   "outputs": [
    {
     "name": "stdout",
     "output_type": "stream",
     "text": [
      "2\n",
      "[0, 0]\n",
      "[0. 0.]\n"
     ]
    }
   ],
   "source": [
    "\"\"\"\n",
    "Esta función es utilizado por la maximización, por eso aquí se añaden los coeficientes de la función objetivo, y se añaden\n",
    "la misma cantidad de ceros que las variables de holgura, por ejemplo si se añadieron 3 variables de holgura, esta identifica\n",
    "que tiene que añadir 3 ceros. Pero si se añaden variables de holgura y artifiales, la suma de estas será la cantidad de ceros\n",
    "que se añadan.\n",
    "\"\"\"\n",
    "\n",
    "matrix_cero = []\n",
    "size_ceros = num_cols - no_variables\n",
    "print(size_ceros)\n",
    "\n",
    "for i in range(size_ceros):\n",
    "    matrix_cero.append(0)\n",
    "print(matrix_cero)\n",
    "\n",
    "objective_matrix = np.concatenate((c_vector, matrix_cero), axis=0)\n",
    "print(objective_matrix )"
   ]
  },
  {
   "cell_type": "code",
   "execution_count": 14,
   "metadata": {},
   "outputs": [
    {
     "name": "stdout",
     "output_type": "stream",
     "text": [
      "[2, 3]\n"
     ]
    }
   ],
   "source": [
    "\"\"\"\n",
    "Esta función la hemos colocado, ya que nuestro algoritmo requiere que se le indican las variables de holgura, las cuales \n",
    "son la base de la resolución del caso. Este array con bases es importante para el buen funcionamiento de los pivotes,\n",
    "ya que si no se le dice explícitamente cuáles son las bases, sería difícil para nuestro algoritmo determinar cuál columna\n",
    "sale y cuál fila entra.\n",
    "\"\"\"\n",
    "\n",
    "array_con_bases = []\n",
    "numero_base = no_variables\n",
    "for item in range(no_restricciones):  \n",
    "    array_con_bases.append(item + numero_base)    \n",
    "print(array_con_bases)"
   ]
  },
  {
   "cell_type": "code",
   "execution_count": 15,
   "metadata": {},
   "outputs": [],
   "source": [
    "\"\"\"\n",
    "Esta es la función de maximización. Nos hemos fijado que la maximización requieres que los coeficientes de la función objetivo\n",
    "no sean negativos, por eso se le manda explícitamente a la función simplex la palabra 'MAX' que identifica la maximización.\n",
    "Eso permite que se diferencie la minimización con la maximización, y haga el procedimiento adecuado según lo requiera\n",
    "cada caso.\n",
    "\"\"\"\n",
    "\n",
    "def max_function():\n",
    "    # Definir la tableau:\n",
    "    tableau = np.array(matrix_mat)\n",
    "    print(tableau)\n",
    "    # Define la función objetivo y las bases iniciales\n",
    "    print(objective_matrix)\n",
    "    \n",
    "    of = np.array(objective_matrix)\n",
    "    # bases iniciales\n",
    "    #basis = np.array([4,5,6])\n",
    "    basis = np.array(array_con_bases)\n",
    "    # Correr el algorithm simplex\n",
    "    basis,tableau = simplex(of,basis,tableau,'MAX')\n",
    "    # Obtener la solución óptima\n",
    "    optimal_solution,optimal_value = get_solution(of,basis,tableau)\n",
    "    # Imprimir al tableau final.\n",
    "    print('La base final es:')\n",
    "    print(basis)\n",
    "    print('solución')\n",
    "    for i in range(len(optimal_solution)):\n",
    "        print('X%d'%(i+1),'=',optimal_solution[i])\n",
    "    print('Z=',optimal_value)\n",
    "#max_function()"
   ]
  },
  {
   "cell_type": "code",
   "execution_count": 16,
   "metadata": {},
   "outputs": [
    {
     "name": "stdout",
     "output_type": "stream",
     "text": [
      "[]\n",
      "2\n",
      "[0, 0]\n",
      "[0. 0.]\n",
      "2\n"
     ]
    }
   ],
   "source": [
    "\"\"\"\n",
    "Esta función nos sirve para hacer un array con la función objetivo. Adicional a eso se requieren las posiciones en las que \n",
    "se encuentran los signos >= o ==, ya que estos requieren que existan variables artificiales, las cuales nuestro algoritmo\n",
    "evalúa como números muy grandes, por eso en lugar de tener ceros o una M como variable artifial, necesitamos tener números muy \n",
    "grandes, es por eso que se le envía un número 10000, que es suficientemente grande.\n",
    "\n",
    "Esta función es utilizado únicamente para la resolución de los problemas de minimización.\n",
    "\"\"\"\n",
    "\n",
    "#Aqui es donde hay que hacer el replace\n",
    "#El arreglo postitions esta en donde hago la matriz arriba\n",
    "print(positions)\n",
    "matrix_cero2 = []\n",
    "size_ceros = no_variables\n",
    "print(size_ceros)\n",
    "\n",
    "for i in range(size_ceros):\n",
    "    matrix_cero2.append(0)\n",
    "print(matrix_cero2)\n",
    "\n",
    "objective_matrixmin = np.concatenate((c_vector, matrix_cero2), axis=0)\n",
    "\n",
    "\n",
    "for i in range(len(objective_matrixmin)):\n",
    "    for i in range (len(positions)):\n",
    "        objective_matrixmin[positions[i]]=10000\n",
    "        \n",
    "print(objective_matrixmin)\n",
    "print(len(objective_matrixmin))\n"
   ]
  },
  {
   "cell_type": "code",
   "execution_count": 19,
   "metadata": {},
   "outputs": [],
   "source": [
    "\"\"\"\n",
    "Esta es la función de minimización. En la solución del tableau, se le indica explícitamente que se hará una MIN (minimización).\n",
    "Esta es mandada a la función 'simplex' definida unos pasos anteriores.\n",
    "\n",
    "La diferencia de la minimización es que esta busca que en la función objetivo los coeficientes sean < 0\n",
    "\"\"\"\n",
    "\n",
    "def min_function():\n",
    "    # Definir la tableau:\n",
    "    tableau = np.array(matrix_mat)\n",
    "    # Definir la función objetivo y las bases iniciales.\n",
    "    print(objective_matrix)\n",
    "    #of = np.array([3, 9, -10000, -10000, 0, 0])\n",
    "    of = np.array(objective_matrixmin)\n",
    "    # bases iniciales\n",
    "    basis = np.array(array_con_bases)\n",
    "    # corre el algoritmo simple\n",
    "    basis,tableau = simplex(of,basis,tableau,'MIN')\n",
    "    # Obtner la solución óptima\n",
    "    optimal_solution,optimal_value = get_solution(of,basis,tableau)\n",
    "    # Tableau final\n",
    "    print('Las bases finales son')\n",
    "    print(basis)\n",
    "    print('Solución')\n",
    "    for i in range(len(optimal_solution)):\n",
    "        print('X%d'%(i+1),'=',optimal_solution[i])\n",
    "    print('Z=',optimal_value)\n",
    "#min_function()"
   ]
  },
  {
   "cell_type": "code",
   "execution_count": 20,
   "metadata": {},
   "outputs": [
    {
     "name": "stdout",
     "output_type": "stream",
     "text": [
      "==== MINIMIZACION ====\n",
      "[0. 0.]\n"
     ]
    },
    {
     "ename": "IndexError",
     "evalue": "index 2 is out of bounds for axis 0 with size 2",
     "output_type": "error",
     "traceback": [
      "\u001b[1;31m---------------------------------------------------------------------------\u001b[0m",
      "\u001b[1;31mIndexError\u001b[0m                                Traceback (most recent call last)",
      "\u001b[1;32m<ipython-input-20-2a852a881678>\u001b[0m in \u001b[0;36m<module>\u001b[1;34m\u001b[0m\n\u001b[0;32m     12\u001b[0m \u001b[1;32melse\u001b[0m\u001b[1;33m:\u001b[0m\u001b[1;33m\u001b[0m\u001b[1;33m\u001b[0m\u001b[0m\n\u001b[0;32m     13\u001b[0m     \u001b[0mprint\u001b[0m\u001b[1;33m(\u001b[0m\u001b[1;34m\"==== MINIMIZACION ====\"\u001b[0m\u001b[1;33m)\u001b[0m\u001b[1;33m\u001b[0m\u001b[1;33m\u001b[0m\u001b[0m\n\u001b[1;32m---> 14\u001b[1;33m     \u001b[0mmin_function\u001b[0m\u001b[1;33m(\u001b[0m\u001b[1;33m)\u001b[0m\u001b[1;33m\u001b[0m\u001b[1;33m\u001b[0m\u001b[0m\n\u001b[0m",
      "\u001b[1;32m<ipython-input-19-99732eaf26d8>\u001b[0m in \u001b[0;36mmin_function\u001b[1;34m()\u001b[0m\n\u001b[0;32m     16\u001b[0m     \u001b[0mbasis\u001b[0m \u001b[1;33m=\u001b[0m \u001b[0mnp\u001b[0m\u001b[1;33m.\u001b[0m\u001b[0marray\u001b[0m\u001b[1;33m(\u001b[0m\u001b[0marray_con_bases\u001b[0m\u001b[1;33m)\u001b[0m\u001b[1;33m\u001b[0m\u001b[1;33m\u001b[0m\u001b[0m\n\u001b[0;32m     17\u001b[0m     \u001b[1;31m# corre el algoritmo simple\u001b[0m\u001b[1;33m\u001b[0m\u001b[1;33m\u001b[0m\u001b[1;33m\u001b[0m\u001b[0m\n\u001b[1;32m---> 18\u001b[1;33m     \u001b[0mbasis\u001b[0m\u001b[1;33m,\u001b[0m\u001b[0mtableau\u001b[0m \u001b[1;33m=\u001b[0m \u001b[0msimplex\u001b[0m\u001b[1;33m(\u001b[0m\u001b[0mof\u001b[0m\u001b[1;33m,\u001b[0m\u001b[0mbasis\u001b[0m\u001b[1;33m,\u001b[0m\u001b[0mtableau\u001b[0m\u001b[1;33m,\u001b[0m\u001b[1;34m'MIN'\u001b[0m\u001b[1;33m)\u001b[0m\u001b[1;33m\u001b[0m\u001b[1;33m\u001b[0m\u001b[0m\n\u001b[0m\u001b[0;32m     19\u001b[0m     \u001b[1;31m# Obtner la solución óptima\u001b[0m\u001b[1;33m\u001b[0m\u001b[1;33m\u001b[0m\u001b[1;33m\u001b[0m\u001b[0m\n\u001b[0;32m     20\u001b[0m     \u001b[0moptimal_solution\u001b[0m\u001b[1;33m,\u001b[0m\u001b[0moptimal_value\u001b[0m \u001b[1;33m=\u001b[0m \u001b[0mget_solution\u001b[0m\u001b[1;33m(\u001b[0m\u001b[0mof\u001b[0m\u001b[1;33m,\u001b[0m\u001b[0mbasis\u001b[0m\u001b[1;33m,\u001b[0m\u001b[0mtableau\u001b[0m\u001b[1;33m)\u001b[0m\u001b[1;33m\u001b[0m\u001b[1;33m\u001b[0m\u001b[0m\n",
      "\u001b[1;32m<ipython-input-10-4c3db52528ad>\u001b[0m in \u001b[0;36msimplex\u001b[1;34m(of, basis, tableau, opt)\u001b[0m\n\u001b[0;32m     19\u001b[0m         \u001b[1;31m# Inicia el algoritmo simplex\u001b[0m\u001b[1;33m\u001b[0m\u001b[1;33m\u001b[0m\u001b[1;33m\u001b[0m\u001b[0m\n\u001b[0;32m     20\u001b[0m         \u001b[1;31m# Calcula zj-cj. Si cj - zj >= 0 para todas las columnas, entonces la solución actual es la solución óptima.\u001b[0m\u001b[1;33m\u001b[0m\u001b[1;33m\u001b[0m\u001b[1;33m\u001b[0m\u001b[0m\n\u001b[1;32m---> 21\u001b[1;33m         \u001b[0mcheck\u001b[0m \u001b[1;33m=\u001b[0m \u001b[0mof\u001b[0m \u001b[1;33m-\u001b[0m \u001b[0mnp\u001b[0m\u001b[1;33m.\u001b[0m\u001b[0msum\u001b[0m\u001b[1;33m(\u001b[0m\u001b[0mnp\u001b[0m\u001b[1;33m.\u001b[0m\u001b[0mreshape\u001b[0m\u001b[1;33m(\u001b[0m\u001b[0mof\u001b[0m\u001b[1;33m[\u001b[0m\u001b[0mlist\u001b[0m\u001b[1;33m(\u001b[0m\u001b[0mbasis\u001b[0m\u001b[1;33m)\u001b[0m\u001b[1;33m]\u001b[0m\u001b[1;33m,\u001b[0m\u001b[1;33m(\u001b[0m\u001b[0mn_rows\u001b[0m\u001b[1;33m,\u001b[0m\u001b[1;36m1\u001b[0m\u001b[1;33m)\u001b[0m\u001b[1;33m)\u001b[0m \u001b[1;33m*\u001b[0m \u001b[0mtableau\u001b[0m\u001b[1;33m[\u001b[0m\u001b[1;33m:\u001b[0m\u001b[1;33m,\u001b[0m\u001b[1;36m0\u001b[0m\u001b[1;33m:\u001b[0m\u001b[0mn_cols\u001b[0m\u001b[1;33m-\u001b[0m\u001b[1;36m1\u001b[0m\u001b[1;33m]\u001b[0m\u001b[1;33m,\u001b[0m\u001b[0maxis\u001b[0m\u001b[1;33m=\u001b[0m\u001b[1;36m0\u001b[0m\u001b[1;33m)\u001b[0m\u001b[1;33m\u001b[0m\u001b[1;33m\u001b[0m\u001b[0m\n\u001b[0m\u001b[0;32m     22\u001b[0m     \u001b[1;32melse\u001b[0m\u001b[1;33m:\u001b[0m\u001b[1;33m\u001b[0m\u001b[1;33m\u001b[0m\u001b[0m\n\u001b[0;32m     23\u001b[0m         \u001b[1;31m# Inicia el algoritmo simplex\u001b[0m\u001b[1;33m\u001b[0m\u001b[1;33m\u001b[0m\u001b[1;33m\u001b[0m\u001b[0m\n",
      "\u001b[1;31mIndexError\u001b[0m: index 2 is out of bounds for axis 0 with size 2"
     ]
    }
   ],
   "source": [
    "\"\"\"\n",
    "Teniendo las funciones de maximización o minimización anteriores, este código verifica cuál de los dos tiene que hacer, \n",
    "basándose en lo que le indicamos al inicio . SI le dijimos max, hará la Maximización, si le dijimos que era min, hará la Mini-\n",
    "mización.\n",
    "\n",
    "Al mismo tiempo, imprime la la solución optimizada.\n",
    "\"\"\"\n",
    "\n",
    "if max_min:\n",
    "    print(\"==== MAXIMIZACION ====\")\n",
    "    max_function()\n",
    "else:\n",
    "    print(\"==== MINIMIZACION ====\")\n",
    "    min_function()"
   ]
  }
 ],
 "metadata": {
  "kernelspec": {
   "display_name": "Python 3",
   "language": "python",
   "name": "python3"
  },
  "language_info": {
   "codemirror_mode": {
    "name": "ipython",
    "version": 3
   },
   "file_extension": ".py",
   "mimetype": "text/x-python",
   "name": "python",
   "nbconvert_exporter": "python",
   "pygments_lexer": "ipython3",
   "version": "3.7.4"
  }
 },
 "nbformat": 4,
 "nbformat_minor": 2
}
